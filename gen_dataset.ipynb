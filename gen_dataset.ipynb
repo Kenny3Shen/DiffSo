{
 "cells": [
  {
   "cell_type": "code",
   "execution_count": 1,
   "metadata": {},
   "outputs": [],
   "source": [
    "import os\n",
    "import cv2\n",
    "from PIL import Image\n",
    "from tqdm.notebook import tqdm\n",
    "import numpy as np\n",
    "gt_path = '/home/shenss/python/dataset/Kodak24/gt'\n",
    "fs_path = '/home/shenss/python/dataset/Kodak24/fs'\n",
    "sobel_path = '/home/shenss/python/dataset/Kodak24/wsobel'\n",
    "os.makedirs(fs_path, exist_ok=True)\n",
    "os.makedirs(sobel_path, exist_ok=True)"
   ]
  },
  {
   "cell_type": "code",
   "execution_count": 2,
   "metadata": {},
   "outputs": [
    {
     "data": {
      "application/vnd.jupyter.widget-view+json": {
       "model_id": "29ad615697294e2e8f896c496b470984",
       "version_major": 2,
       "version_minor": 0
      },
      "text/plain": [
       "  0%|          | 0/24 [00:00<?, ?it/s]"
      ]
     },
     "metadata": {},
     "output_type": "display_data"
    }
   ],
   "source": [
    "for img_name in tqdm(os.listdir(gt_path)):\n",
    "    img_path = os.path.join(gt_path, img_name)\n",
    "    img = Image.open(img_path).resize((256, 256), Image.BICUBIC)\n",
    "    img.save(os.path.join(gt_path, img_name), format='png')"
   ]
  },
  {
   "cell_type": "code",
   "execution_count": 3,
   "metadata": {},
   "outputs": [
    {
     "data": {
      "application/vnd.jupyter.widget-view+json": {
       "model_id": "b136e6ea9c12409a8d388a8a3d82d06a",
       "version_major": 2,
       "version_minor": 0
      },
      "text/plain": [
       "  0%|          | 0/24 [00:00<?, ?it/s]"
      ]
     },
     "metadata": {},
     "output_type": "display_data"
    }
   ],
   "source": [
    "def ht_color(img):\n",
    "    (r, g, b) = img[:, :, 0], img[:, :, 1], img[:, :, 2]\n",
    "    r = Image.fromarray(r).convert('1').convert('L')\n",
    "    g = Image.fromarray(g).convert('1').convert('L')\n",
    "    b = Image.fromarray(b).convert('1').convert('L')\n",
    "    return Image.merge('RGB', (r, g, b))\n",
    "\n",
    "for img_name in tqdm(os.listdir(gt_path)):\n",
    "    img_path = os.path.join(gt_path, img_name)\n",
    "    img = Image.open(img_path)\n",
    "    img = ht_color(np.array(img))\n",
    "\n",
    "    img.save(os.path.join(fs_path, img_name), format='png')"
   ]
  },
  {
   "cell_type": "code",
   "execution_count": 3,
   "metadata": {},
   "outputs": [
    {
     "data": {
      "application/vnd.jupyter.widget-view+json": {
       "model_id": "74a5d796237b46d6a102fad0d3691ab9",
       "version_major": 2,
       "version_minor": 0
      },
      "text/plain": [
       "  0%|          | 0/100 [00:00<?, ?it/s]"
      ]
     },
     "metadata": {},
     "output_type": "display_data"
    }
   ],
   "source": [
    "def weighted_sobel(img):\n",
    "    img = cv2.cvtColor(img, cv2.COLOR_RGB2GRAY)\n",
    "    img_sobel_x = cv2.Sobel(img, cv2.CV_64F, 1, 0, ksize=3)\n",
    "    img_sobel_x = cv2.convertScaleAbs(img_sobel_x)\n",
    "    img_sobel_y = cv2.Sobel(img, cv2.CV_64F, 0, 1, ksize=3)\n",
    "    img_sobel_y = cv2.convertScaleAbs(img_sobel_y)\n",
    "    img_sobel = cv2.addWeighted(img_sobel_x, 0.5, img_sobel_y, 0.5, 0)\n",
    "    return img_sobel\n",
    "\n",
    "for img_name in tqdm(os.listdir(gt_path)):\n",
    "    img_path = os.path.join(gt_path, img_name)\n",
    "    img = cv2.imread(img_path)\n",
    "    img = weighted_sobel(img)\n",
    "    cv2.imwrite(os.path.join(sobel_path, img_name), img)\n"
   ]
  }
 ],
 "metadata": {
  "kernelspec": {
   "display_name": "py311cu124",
   "language": "python",
   "name": "python3"
  },
  "language_info": {
   "codemirror_mode": {
    "name": "ipython",
    "version": 3
   },
   "file_extension": ".py",
   "mimetype": "text/x-python",
   "name": "python",
   "nbconvert_exporter": "python",
   "pygments_lexer": "ipython3",
   "version": "3.11.8"
  }
 },
 "nbformat": 4,
 "nbformat_minor": 2
}
